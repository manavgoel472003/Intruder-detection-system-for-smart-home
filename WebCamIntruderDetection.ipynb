{
  "cells": [
    {
      "cell_type": "markdown",
      "metadata": {},
      "source": [
        "## Imports"
      ]
    },
    {
      "cell_type": "code",
      "execution_count": null,
      "metadata": {
        "colab": {
          "base_uri": "https://localhost:8080/"
        },
        "id": "7_7gzGFVAFZI",
        "outputId": "469a0379-597c-42ce-adb8-2b8770196222"
      },
      "outputs": [],
      "source": [
        "!pip install cmake dlib\n",
        "!pip install face-recognition\n",
        "!pip install opencv-python"
      ]
    },
    {
      "cell_type": "code",
      "execution_count": null,
      "metadata": {
        "id": "Bjm8povgNdqX"
      },
      "outputs": [],
      "source": [
        "import cv2\n",
        "import numpy as np\n",
        "import face_recognition\n",
        "import smtplib\n",
        "import imghdr\n",
        "from email.message import EmailMessage\n",
        "import ssl"
      ]
    },
    {
      "cell_type": "markdown",
      "metadata": {},
      "source": [
        "## Main model for Web Cams detection\n",
        "Multiple web cams can be used in this model, but we are only using 1 either the Laptop's webcam or the phone's camera"
      ]
    },
    {
      "cell_type": "code",
      "execution_count": null,
      "metadata": {
        "id": "n8e0qe-6eyED"
      },
      "outputs": [],
      "source": [
        "video_capture = cv2.VideoCapture(0)"
      ]
    },
    {
      "cell_type": "code",
      "execution_count": null,
      "metadata": {
        "id": "n0jFBmvcfc7D"
      },
      "outputs": [],
      "source": [
        "auth_person_image = face_recognition.load_image_file(\"/Users/manav/Downloads/auth_person.jpg\")\n",
        "auth_encoding = face_recognition.face_encodings(auth_person_image)[0]"
      ]
    },
    {
      "cell_type": "code",
      "execution_count": null,
      "metadata": {
        "id": "lUxBZA6LfyMC"
      },
      "outputs": [],
      "source": [
        "known_face_encodings = [auth_encoding]\n",
        "known_face_names = [\"Authorised\"]\n",
        "\n",
        "face_locations = []\n",
        "face_encodings = []\n",
        "face_names = []\n",
        "check_intruder = 0\n",
        "count_occ = 0\n",
        "process_this_frame = True"
      ]
    },
    {
      "cell_type": "code",
      "execution_count": null,
      "metadata": {
        "colab": {
          "base_uri": "https://localhost:8080/",
          "height": 249
        },
        "id": "14WiWWI3gezH",
        "outputId": "bd784e30-ffd1-4586-d932-6d138d112826"
      },
      "outputs": [],
      "source": [
        "while True:\n",
        "  ret, frame = video_capture.read() # to get frame\n",
        "\n",
        "  if process_this_frame:\n",
        "    small_frame = cv2.resize(frame, (0,0), fx=0.25, fy=0.25) # reducing the size of the frame for faster processing\n",
        "    \n",
        "    rgb_small_frame = small_frame[:, :, ::-1] # normalising the image\n",
        "    face_locations = face_recognition.face_locations(rgb_small_frame) # face locations\n",
        "    face_encodings = face_recognition.face_encodings(rgb_small_frame, face_locations) # and face encodings \n",
        "\n",
        "    face_names = []\n",
        "    for face_encoding in face_encodings:\n",
        "      matches = face_recognition.compare_faces(known_face_encodings, face_encoding)\n",
        "      name = \"Unknown\"\n",
        "      print(matches)\n",
        "      \n",
        "      face_distances = face_recognition.face_distance(known_face_encodings, face_encoding)\n",
        "      best_match_index = np.argmin(face_distances)\n",
        "      # print(face_distances)\n",
        "      # print(best_match_index)\n",
        "      if matches[best_match_index]:\n",
        "        print(matches[best_match_index])\n",
        "        name = known_face_names[best_match_index]\n",
        "        check_intruder = 0\n",
        "        count_occ = 0\n",
        "\n",
        "      face_names.append(name)\n",
        "      if name == \"Unknown\":\n",
        "        check_intruder = 1 \n",
        "  \n",
        "\n",
        "  if check_intruder == 1:\n",
        "    count_occ += 1\n",
        "  if count_occ > 100:\n",
        "    return_value, image = video_capture.read()\n",
        "    cv2.imwrite('/Users/manav/Downloads/ImageRecognition/opnecv.png', image)\n",
        "   \n",
        "    smtp_server = \"smtp.gmail.com\"\n",
        "    port = 587  # For starttls\n",
        "    sender_email = \"kate07seven@gmail.com\"\n",
        "    password = \"nnvnxdbeusfoxcxf\"\n",
        "\n",
        "    # Create a secure SSL context\n",
        "    context = ssl.create_default_context()\n",
        "    server = smtplib.SMTP(smtp_server, port)\n",
        "    server.starttls(context=context)  # Secure the connection\n",
        "    server.login(sender_email, password)\n",
        "    new_msg = EmailMessage()\n",
        "    new_msg['Subject'] = \"Intruder Alert\"\n",
        "    new_msg['From'] = \"kate47@gmail.com\"\n",
        "    new_msg['To'] = \"gyanviu@gmail.com\"\n",
        "    new_msg.set_content(\"Intruder picture : \")\n",
        "    with open('/Users/manav/Downloads/ImageRecognition/opnecv.png', 'rb') as f:\n",
        "      image_data = f.read()\n",
        "      image_type = imghdr.what(f.name)\n",
        "      image_name = f.name\n",
        "    new_msg.add_attachment(image_data, maintype='image', subtype=image_type, filename=image_name)\n",
        "    server.send_message(new_msg)\n",
        "    break\n",
        "    \n",
        "  # To avoid processing all the frames\n",
        "  process_this_frame = not process_this_frame\n",
        "\n",
        "  # Display results\n",
        "  for(top, right, bottom, left), name in zip(face_locations, face_names):\n",
        "    top *= 4\n",
        "    right *= 4\n",
        "    bottom *= 4\n",
        "    left *= 4\n",
        "\n",
        "    cv2.rectangle(frame, (left, top), (right, bottom), (0, 0, 255), 2)\n",
        "    cv2.rectangle(frame, (left, bottom - 35), (right, bottom), (0, 0, 255), cv2.FILLED)\n",
        "    font = cv2.FONT_HERSHEY_DUPLEX\n",
        "    cv2.putText(frame, name, (left + 6, bottom - 6), font, 1.0, (255, 255, 255), 1)\n",
        "  \n",
        "  cv2.imshow(\"webcam\", frame)\n",
        "\n",
        "  if cv2.waitKey(1) & 0xFF == ord('q'):\n",
        "    break\n",
        "\n",
        "video_capture.release()\n",
        "cv2.destroyAllWindows()\n"
      ]
    },
    {
      "cell_type": "markdown",
      "metadata": {},
      "source": [
        "This part to be executed in terminal"
      ]
    },
    {
      "cell_type": "code",
      "execution_count": null,
      "metadata": {},
      "outputs": [],
      "source": []
    }
  ],
  "metadata": {
    "accelerator": "GPU",
    "colab": {
      "collapsed_sections": [],
      "provenance": []
    },
    "gpuClass": "standard",
    "kernelspec": {
      "display_name": "Python 3.8.5 ('base')",
      "language": "python",
      "name": "python3"
    },
    "language_info": {
      "codemirror_mode": {
        "name": "ipython",
        "version": 3
      },
      "file_extension": ".py",
      "mimetype": "text/x-python",
      "name": "python",
      "nbconvert_exporter": "python",
      "pygments_lexer": "ipython3",
      "version": "3.8.5"
    },
    "vscode": {
      "interpreter": {
        "hash": "dcab604113d8d8ef8347257d2e57b667d9b17cd73646f7c7a2fde7ba1c1d913b"
      }
    }
  },
  "nbformat": 4,
  "nbformat_minor": 0
}
